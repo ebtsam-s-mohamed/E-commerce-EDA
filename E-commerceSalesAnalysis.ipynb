{
 "cells": [
  {
   "cell_type": "markdown",
   "id": "52913d8c",
   "metadata": {},
   "source": [
    "# Exploratory data analysis of amazon india for 2022"
   ]
  },
  {
   "cell_type": "markdown",
   "id": "98b495d0",
   "metadata": {},
   "source": [
    "Questions to be investigated\n",
    "=\n",
    "<br>* How many unique orders \n",
    "<br>* How frequently orders can get cancelled \n",
    "<br>* Does sales increase od decreased in specific month \n",
    "<br>* Does price range has imoact on cancelled orders\n",
    "<br>* Which most five profitable city and state\n",
    "<br>* Most frequent shipping mode\n",
    "<br>* Most orderd category\n",
    "<br>* How often b2b transactions happen\n",
    "<br>* Deos free shipping promotion increase orders\n"
   ]
  },
  {
   "cell_type": "code",
   "execution_count": null,
   "id": "3af7c59b",
   "metadata": {},
   "outputs": [],
   "source": [
    "#Importing needed libraries\n",
    "import pandas as pd\n",
    "import matplotlib.pyplot as plt\n",
    "import seaborn as sns\n",
    "pip install nbformat"
   ]
  },
  {
   "cell_type": "code",
   "execution_count": null,
   "id": "caf72034",
   "metadata": {},
   "outputs": [],
   "source": [
    "df = pd.read_csv('Amazon Sale Report.csv')"
   ]
  },
  {
   "cell_type": "code",
   "execution_count": null,
   "id": "7a71bae8",
   "metadata": {},
   "outputs": [],
   "source": [
    "df.head(50)"
   ]
  },
  {
   "cell_type": "code",
   "execution_count": null,
   "id": "8fd9704e",
   "metadata": {},
   "outputs": [],
   "source": [
    "df.tail(50)"
   ]
  },
  {
   "cell_type": "code",
   "execution_count": null,
   "id": "349d3c4a",
   "metadata": {},
   "outputs": [],
   "source": [
    "df.columns"
   ]
  },
  {
   "cell_type": "code",
   "execution_count": null,
   "id": "928f752b",
   "metadata": {},
   "outputs": [],
   "source": [
    "df.info()"
   ]
  },
  {
   "cell_type": "code",
   "execution_count": null,
   "id": "c2d7a1dc",
   "metadata": {},
   "outputs": [],
   "source": [
    "#dropping the last column\n",
    "df =df.drop('Unnamed: 22',axis=1)"
   ]
  },
  {
   "cell_type": "code",
   "execution_count": null,
   "id": "456c0393",
   "metadata": {},
   "outputs": [],
   "source": [
    "df.columns"
   ]
  },
  {
   "cell_type": "code",
   "execution_count": null,
   "id": "1dd6c58e",
   "metadata": {},
   "outputs": [],
   "source": [
    "#filling the fulfilment by nan by amazon as the merchant use easy ship as fulfilment servic\n",
    "df['fulfilled-by'].fillna('amazon',inplace=True)"
   ]
  },
  {
   "cell_type": "code",
   "execution_count": null,
   "id": "0c167116",
   "metadata": {},
   "outputs": [],
   "source": [
    "df['fulfilled-by'].isnull().sum()"
   ]
  },
  {
   "cell_type": "code",
   "execution_count": null,
   "id": "8166b34d",
   "metadata": {},
   "outputs": [],
   "source": [
    "df['promotion-ids'].fillna('no_promotions',inplace =True)"
   ]
  },
  {
   "cell_type": "code",
   "execution_count": null,
   "id": "249fe259",
   "metadata": {},
   "outputs": [],
   "source": [
    "df['promotion-ids'].isnull().sum()"
   ]
  },
  {
   "cell_type": "code",
   "execution_count": null,
   "id": "2fc3af76",
   "metadata": {},
   "outputs": [],
   "source": [
    "df['Courier Status'].isnull().sum()"
   ]
  },
  {
   "cell_type": "code",
   "execution_count": null,
   "id": "96f63245",
   "metadata": {},
   "outputs": [],
   "source": [
    "#checking if the nulls are the cancelled orders only\n",
    "df[['Courier Status','Status']]"
   ]
  },
  {
   "cell_type": "code",
   "execution_count": null,
   "id": "52205a92",
   "metadata": {},
   "outputs": [],
   "source": [
    "df['Courier Status'].fillna('Cancelled',inplace =True)"
   ]
  },
  {
   "cell_type": "code",
   "execution_count": null,
   "id": "34d27da5",
   "metadata": {},
   "outputs": [],
   "source": [
    "#make shipping entries consistant (removing the - Delivered to Buyer part)\n",
    "df['Status'].replace('Shipped - Delivered to Buyer','Shipped',inplace=True)"
   ]
  },
  {
   "cell_type": "code",
   "execution_count": null,
   "id": "fdf5a87b",
   "metadata": {},
   "outputs": [],
   "source": [
    "df['Status']"
   ]
  },
  {
   "cell_type": "code",
   "execution_count": null,
   "id": "9493335c",
   "metadata": {},
   "outputs": [],
   "source": [
    "df.info()"
   ]
  },
  {
   "cell_type": "code",
   "execution_count": null,
   "id": "46459d4b",
   "metadata": {},
   "outputs": [],
   "source": [
    "#filling nan currnecy with INR as this data set is only about amazon india\n",
    "df['currency'].fillna(method='backfill',inplace=True)"
   ]
  },
  {
   "cell_type": "code",
   "execution_count": null,
   "id": "a860a641",
   "metadata": {},
   "outputs": [],
   "source": [
    "df[['Status','ship-city','ship-state','ship-postal-code','ship-country']]"
   ]
  },
  {
   "cell_type": "code",
   "execution_count": null,
   "id": "051930f7",
   "metadata": {},
   "outputs": [],
   "source": [
    "#dropping the ship-country column as this data set is about sales in india\n",
    "df.drop('ship-country',axis=1,inplace=True)"
   ]
  },
  {
   "cell_type": "code",
   "execution_count": null,
   "id": "1b0090ab",
   "metadata": {},
   "outputs": [],
   "source": [
    "#the problem here is that india only has 28 states, that count difference might be inconsistent spilling, entering a city as a state it also may be the cas for the ship-city column\n",
    "df[['ship-city','ship-state']].nunique()"
   ]
  },
  {
   "cell_type": "code",
   "execution_count": null,
   "id": "78ebf790",
   "metadata": {},
   "outputs": [],
   "source": [
    "df[['ship-city','ship-state']].tail(50)"
   ]
  },
  {
   "cell_type": "code",
   "execution_count": null,
   "id": "9d189f88",
   "metadata": {},
   "outputs": [],
   "source": [
    "pd.options.display.max_rows = 128975\n",
    "\n",
    "df[['ship-city','ship-state']]"
   ]
  },
  {
   "cell_type": "code",
   "execution_count": null,
   "id": "ba303cab",
   "metadata": {},
   "outputs": [],
   "source": [
    "df['ship-city']=df['ship-city'].str.upper()"
   ]
  },
  {
   "cell_type": "code",
   "execution_count": null,
   "id": "08891776",
   "metadata": {},
   "outputs": [],
   "source": [
    "df['ship-city'].str.strip('.(M)-2(W)- 400062CITY, PUNE560037400101')"
   ]
  },
  {
   "cell_type": "code",
   "execution_count": null,
   "id": "88df3eb5",
   "metadata": {},
   "outputs": [],
   "source": []
  },
  {
   "cell_type": "code",
   "execution_count": null,
   "id": "0b05f8c5",
   "metadata": {},
   "outputs": [],
   "source": [
    "my_dict={'BENGALURU':'BANGALORE',\n",
    "        'GA': 'GOA',\n",
    "        'DELH':'DELHI',\n",
    "        'MUMBAI - 400062':'MUMBAI',\n",
    "        'AMBALA CITY':'AMBALA',\n",
    "        'RAU':'Indore',\n",
    "        'FARIDPUR BAREILLY DISTRICT':'FARIDPUR',\n",
    "        'KOYILANDY, KOZHIKODE':'KOYILANDY',\n",
    "        'VIKAS PURI, F BLOCK':'VIKAS PURI',\n",
    "        'JHUMRI TILAIYA':'JHUMRI TELAIYA',\n",
    "        'MANDVI KACHCHH DISTRICT':'MANDVI',\n",
    "        'TUMAKURU. PHONE NUMBER 9686000855':'TUMAKURU',\n",
    "        'SIPCOT PERUNDURAI':'PERUNDURAI',\n",
    "        'MALAPPURAM P O':'MALAPPURAM',\n",
    "        'KANJIKODE INDUSTRIAL AREA':'KANJIKODE',\n",
    "        'KESHORAI PATAN DISTRICT BUNDI':'KESHORAI',\n",
    "        'ATCHUTAPURAM APSEZ':'ATCHUTAPURAM',\n",
    "        'PIMPRI CHINCHWAD, PUNE':'PUNE',\n",
    "        'RANIP,AHMEDABAD':'AHMEDABAD',        \n",
    "        'KUTHUPARAMBA, KANNUR':'KANNUR',\n",
    "        'COLACHAL, KANYA KUMARI DISTRICT':'COLACHAL',\n",
    "        'NTPC KANIHA TOWNSHIP':'NTPC KANIHA',\n",
    "        'SIPCOT THOOTHUKUDI':'THOOTHUKUDI',\n",
    "        'SAO JOSE DE AREAL':'GOA',\n",
    "        'AMETHI SULTANPUR DISTRICT':'AMETHI',\n",
    "        'ARANI TIRUVANNAMALAI DISTRICT':'ARANI',\n",
    "        'BENGALURU 560037':'BANGALORE',\n",
    "        'ATMAKUR SRI POTTI SRIRAMULU':'ATMAKUR',\n",
    "        'MAHRAJGANJ MAHRAJGANJ DISTRICT':'MAHRAJGANJ',\n",
    "        'NEW TOWN, KOLKATA':'KOLKATA',\n",
    "        'ALOK CITY':'ALOK',\n",
    "        'RAI INDUSTRIAL AREA':'RAI',\n",
    "        'MUMBAI 400101':'MUMBAI',\n",
    "        'METTUPALAYAM COIMBATORE DISTRICT':'METTUPALAYAM',\n",
    "        'KANNAMANGALAM ALAPPUZHA DISTRICT':'KANNAMANGALAM',\n",
    "        'LILUAH,HOWRAH':'HOWRAH',\n",
    "        'HYDERABAD (500034)':'HYDERABAD',\n",
    "        'PALLIPPURAM THIRUVANANTHAPURAM DISTRICT':'PALLIPPURAM',\n",
    "        'TIRUPATHUR SIVAGANGA DISTRICT':'TIRUPATHUR',\n",
    "        'GUDALUR COIMBATORE DISTRICT':'GUDALUR',\n",
    "        'KANIYAPURAM, THIRUVANANTHAPURAM DISTRICT':'KANIYAPURAM',\n",
    "        'MALPUR ROAD, MODASA':'MODASA',\n",
    "        'MAHADEVAPURA, BANGALORE':'BANGALORE',\n",
    "        'NUVEM.   ( DO NOT RING THE DOOR BELL, CALL B4 COMG':'NUVEM',\n",
    "        'FORT.MUMBAI':'MUMBAI',\n",
    "        'KUNDLI INDUSTRIAL AREA':'KUNDLI',\n",
    "        'DOBASPET INDUSTRIAL AREA':'DOBASPET',\n",
    "        'RANIPET, VELLORE DT':'RANIPET',\n",
    "        'ALANGULAM TIRUNELVELI DISTRICT':'ALANGULAM',\n",
    "        'RAJGARH RAJGARH DISTRICT':'RAJGARH',\n",
    "        'NARASINGAPURAM VELLORE DISTRICT':'NARASINGAPURAM',\n",
    "        'JALALABAD SHAHJAHANPUR DISTRICT':'JALALABAD',\n",
    "        'TENALI, GUNTUR DISTRICT':'TENALI',\n",
    "        'ARANI THIRUVALLUR DISTRICT':'ARANI',\n",
    "        'IB THEMAL POWER PLANT BANHARPALI TOWNSHIP':'BANHARPALI TOWNSHIP',\n",
    "        'COIMBATORE 641041':'COIMBATORE',\n",
    "        'ALIPORE KOLKATA':'KOLKATA',\n",
    "        'BHAYANDER (EASY)':'EAST BHAYANDER',\n",
    "        'NALLASOPARA (EAST)':'EAST NALLASOPARA',\n",
    "        'INDIRAPURAM, GHAZIABAD':'GHAZIABAD',\n",
    "        'IRITTY,KANNUR':'KANNUR',\n",
    "        'NALLASOPARA (EAST)':'EAST NALLASOPARA',\n",
    "        'PLOT NO.7,SECTOR 47,GURGAON':'GURGAON',\n",
    "        'ANDHERI EAST, MUMBAI':'EAST MUMBAI',\n",
    "        'VRINDAVAN, MATHURA':'VRINDAVAN',\n",
    "        'TANDA AMBEDKAR NAGAR DISTRICT':'TANDA',\n",
    "        'NANDIKOTKUR KURNOOL':'',\n",
    "        'TADIGADAPA,VIJAYAWADA':'VIJAYAWADA',\n",
    "        'BADLAPUR (EAST)':'EAST BADLAPUR',\n",
    "        'CHENNAI.':'CHENNAI',\n",
    "        'KANCHIKACHERLA, KRISHNA DISTRICT':'KANCHIKACHERLA',\n",
    "        'WAGHOLI, PUNE':'PUNE',\n",
    "        'MANJERI P.O ':'MANJERI',\n",
    "        'DOMBIVALI E':'EAST DOMBIVALI',\n",
    "        'THANE - WEST':'THANE-WEST',\n",
    "        'THANE(W), THANE':'THANE-WEST',\n",
    "         'GANGAPUR CITY':'GANGAPUR',\n",
    "         'KALYAN E':'EAST KALYAN',\n",
    "         'VINDHYANAGAR, SINGRAULI':'Singrauli',\n",
    "         'OLD PANVEL, NAVI MUMBAI':'MUMBAI',\n",
    "         'KHANAKUL I':'KHANAKUL',\n",
    "         'PIMPRI CHINCHWAD PUNE':'PUNE',\n",
    "         'BEHALA, KOLKATA':'KOLKATA',\n",
    "         'MANGALURU 575008':'MANGALURU',\n",
    "         'KUKATPALLY, HYDERABAD':'HYDERABAD',\n",
    "         'MUMBAI 400030':'MUMBAI',\n",
    "         'KHARGHAR, NAVI MUMBAI':'MUMBAI',\n",
    "         'SANPADA SECTOR 1':'SANPADA',\n",
    "         'BIDHAN NAGAR, KOLKATA':'KOLKATA',\n",
    "         'DOMBIVLI ( WEST)':'WEST DOMBIVLI',\n",
    "         'AMRUTHAHALLI, JAKKUR POST':'AMRUTHAHALLI',\n",
    "         'KALAIYANUR, COIMBATORE':'COIMBATORE',\n",
    "         'RAVET, PUNE':'PUNE',\n",
    "         'URGADUR. SHIVAMOGGA':'SHIVAMOGGA',\n",
    "         'GOREGAON EAST, MUMBAI -  400097':'MUMBAI',\n",
    "         'NASHIK. GST NO. 27ALXPD3261A1Z9':'NASHIK',\n",
    "         'DOMBIVLI (E)':'EAST DOMBIVLI',\n",
    "         'PERUMCHERY  POST, THRISSUR':'THRISSUR',\n",
    "         'HYDERABA':'HYDERABAD',\n",
    "         'ANNA NAGAR WEST, CHENNAI':'CHENNAI',\n",
    "         'CHENNAI 600042':'CHENNAI',\n",
    "         'PUNE 36':'PUNE',\n",
    "         'GOREGAON WEST, MUMBAI':'MUMBAI',\n",
    "         'PEROLE,NILESHWAR P.O, KASARAGOD DISTRICT ':'KERELA',\n",
    "         'PRAYAGRAJ (ALLAHABAD)':'PRAYAGRAJ',\n",
    "         'MULUND ( WEST), MUMBAI, PIN 400080':'MUMBAI',\n",
    "         'WALKESHWAR,MUMBAI':'MUMBAI',\n",
    "         'NALASOPARA WEST':'WEST NALASOPARA',\n",
    "         'MUMBAI-400001':'MUMBAI',\n",
    "         'NIZAMPET VILLAGE, RANGA REDDY DISTRICT, HYDERABAD':'HYDERABAD',\n",
    "         'THANE:421302':'THANE',\n",
    "         'MADIPAKAM CHENNAI':'CHENNAI',\n",
    "         'SAHAR ROAD, ANDHERI-EAST, MUMBAI':'MUMBAI',\n",
    "         'KANUVAI, COIMBATORE':'COIMBATORE',\n",
    "         'CHEMBUR EAST, MUMBAI':'MUMBAI',\n",
    "         'MUMBAI 400 020':'MUMBAI',\n",
    "         'CHHIBRAMAU,KANNAUJ':'KANNAUJ',\n",
    "         'ULHASNAGAR 421004':'ULHASNAGAR',\n",
    "         'RAJARHAAT , KOLKATA':'KOLKATA',\n",
    "         'VASHI, NEW MUMBAI.':'NEW MUMBAI',\n",
    "         'KANDIVALI EAST MUMBAI':'EAST MUMBAI',\n",
    "         'KAHALGAON, BHAGALPUR':'KAHALGAON',\n",
    "         'PUDUCHERRY 605003':'PUDUCHERRY',\n",
    "         'NEW TOWN , KOLKATA':'KOLKATA',\n",
    "         'BANGALORE-78':'BANGALORE',\n",
    "         'CHEMBUR, MUMBAI':'MUMBAI',\n",
    "         'ECIL,HYDERABAD':'HYDERABAD',\n",
    "         'PUNE 411041':'PUNE',\n",
    "         'ULWE,NAVI MUMBAI':'MUMBAI',\n",
    "         'MIYAPUR, HYDERABAD':'HYDERABAD',\n",
    "         'BENGALURU 560043':'BANGALORE',\n",
    "         'KARAPAKKAM CHENNAI':'CHENNAI',\n",
    "         'NIGADI PRADHIKARAN PUNE':'PUNE',\n",
    "         'MAGARPATTA CITY, PUNE':'PUNE',\n",
    "         'SOPANBAUG, PUNE':'PUNE',\n",
    "        }\n",
    "        \n",
    "df['ship-city'].replace(my_dict,inplace=True)\n",
    "df['ship-city'].replace('THNE','MUMBAI',inplace=True)"
   ]
  },
  {
   "cell_type": "code",
   "execution_count": null,
   "id": "c8e135b1",
   "metadata": {
    "scrolled": true
   },
   "outputs": [],
   "source": [
    "df['ship-city'].value_counts().sort_values(ascending=False)"
   ]
  },
  {
   "cell_type": "code",
   "execution_count": null,
   "id": "367242a6",
   "metadata": {},
   "outputs": [],
   "source": [
    "#dropping duplicates\n",
    "df.drop_duplicates(inplace=True)\n",
    "df.info()"
   ]
  },
  {
   "cell_type": "code",
   "execution_count": null,
   "id": "b7820d49",
   "metadata": {},
   "outputs": [],
   "source": []
  },
  {
   "cell_type": "code",
   "execution_count": null,
   "id": "7a1ff230",
   "metadata": {},
   "outputs": [],
   "source": [
    "#the nulls in Amount column are the cancelled orders,will fill them with zeros\n",
    "df['Amount'].fillna(0,inplace=True)"
   ]
  },
  {
   "cell_type": "code",
   "execution_count": null,
   "id": "df3efa51",
   "metadata": {},
   "outputs": [],
   "source": [
    "df['Amount'].isnull().sum()"
   ]
  },
  {
   "cell_type": "markdown",
   "id": "451d1048",
   "metadata": {},
   "source": [
    "### * How many unique orders\n"
   ]
  },
  {
   "cell_type": "code",
   "execution_count": null,
   "id": "03f55a7b",
   "metadata": {},
   "outputs": [],
   "source": [
    "df['Order ID'].nunique()"
   ]
  },
  {
   "cell_type": "markdown",
   "id": "b4c5ba20",
   "metadata": {},
   "source": [
    "### * How frequently orders can get cancelled\n"
   ]
  },
  {
   "cell_type": "code",
   "execution_count": null,
   "id": "2571a6f8",
   "metadata": {},
   "outputs": [],
   "source": [
    "sum(df['Status']=='Cancelled')"
   ]
  },
  {
   "cell_type": "markdown",
   "id": "a0e9978a",
   "metadata": {},
   "source": [
    "### * Percentage of cancelled orders"
   ]
  },
  {
   "cell_type": "code",
   "execution_count": null,
   "id": "76be0f92",
   "metadata": {},
   "outputs": [],
   "source": [
    "sum(df['Status']=='Cancelled')*100/df['Order ID'].count()"
   ]
  },
  {
   "cell_type": "markdown",
   "id": "be13a111",
   "metadata": {},
   "source": [
    "### * Does sales increase or decreased in specific month\n"
   ]
  },
  {
   "cell_type": "code",
   "execution_count": null,
   "id": "29a7e57d",
   "metadata": {},
   "outputs": [],
   "source": [
    "df['Month'] = pd.DatetimeIndex(df['Date']).month\n",
    "df['Month']"
   ]
  },
  {
   "cell_type": "code",
   "execution_count": null,
   "id": "5c308578",
   "metadata": {},
   "outputs": [],
   "source": [
    "#Getting the month name \n",
    "\n",
    "import calendar\n",
    "df['Month'] = df['Month'].apply(lambda x: calendar.month_abbr[x])"
   ]
  },
  {
   "cell_type": "code",
   "execution_count": null,
   "id": "90eba7a8",
   "metadata": {},
   "outputs": [],
   "source": [
    "df['Month'].nunique()"
   ]
  },
  {
   "cell_type": "code",
   "execution_count": null,
   "id": "12cc558d",
   "metadata": {},
   "outputs": [],
   "source": [
    "sns.barplot(x='Month',y='Amount',data=df)"
   ]
  },
  {
   "cell_type": "markdown",
   "id": "31ce6d6c",
   "metadata": {},
   "source": [
    "### *Top five profitable cities\n"
   ]
  },
  {
   "cell_type": "code",
   "execution_count": null,
   "id": "012cdca0",
   "metadata": {},
   "outputs": [],
   "source": [
    "df.groupby('ship-city')['Amount'].sum().sort_values(ascending=False).head(5)"
   ]
  },
  {
   "cell_type": "code",
   "execution_count": null,
   "id": "2eb9c4b8",
   "metadata": {},
   "outputs": [],
   "source": []
  },
  {
   "cell_type": "markdown",
   "id": "3f1b9524",
   "metadata": {},
   "source": [
    "### * Top five profitable states"
   ]
  },
  {
   "cell_type": "code",
   "execution_count": null,
   "id": "a9c8687b",
   "metadata": {},
   "outputs": [],
   "source": [
    "df.groupby('ship-state')['Amount'].sum().sort_values(ascending=False).head(5)"
   ]
  },
  {
   "cell_type": "markdown",
   "id": "136f105b",
   "metadata": {},
   "source": [
    "\n",
    "### * Most shipment service  level used"
   ]
  },
  {
   "cell_type": "code",
   "execution_count": null,
   "id": "cc271fe5",
   "metadata": {},
   "outputs": [],
   "source": [
    "df[['ship-service-level']].value_counts()"
   ]
  },
  {
   "cell_type": "markdown",
   "id": "b61b8322",
   "metadata": {},
   "source": [
    "### * Most ordered category\n"
   ]
  },
  {
   "cell_type": "code",
   "execution_count": null,
   "id": "cffa7c55",
   "metadata": {},
   "outputs": [],
   "source": [
    "df.columns"
   ]
  },
  {
   "cell_type": "code",
   "execution_count": null,
   "id": "d503a1c3",
   "metadata": {},
   "outputs": [],
   "source": [
    "df['Category'].value_counts().sort_values(ascending=False).head(3)"
   ]
  },
  {
   "cell_type": "markdown",
   "id": "0c7a7ff2",
   "metadata": {},
   "source": [
    "### * How often b2b transactions happen\n"
   ]
  },
  {
   "cell_type": "code",
   "execution_count": null,
   "id": "cbbbdded",
   "metadata": {},
   "outputs": [],
   "source": [
    "print('Number of B2B orders ',len(df[df['B2B']==True]))"
   ]
  },
  {
   "cell_type": "code",
   "execution_count": null,
   "id": "58bd13df",
   "metadata": {},
   "outputs": [],
   "source": [
    "print('Percentage of b2b orders ', len(df[df['B2B']==True])*100/len(df['Order ID']))"
   ]
  },
  {
   "cell_type": "markdown",
   "id": "2527eefc",
   "metadata": {},
   "source": [
    "### * Which category do businesses order from amazon"
   ]
  },
  {
   "cell_type": "code",
   "execution_count": null,
   "id": "555b23c8",
   "metadata": {},
   "outputs": [],
   "source": [
    "b2b_cat = df[df['B2B']==True]['Category'].count()\n"
   ]
  },
  {
   "cell_type": "code",
   "execution_count": null,
   "id": "4caf46e5",
   "metadata": {},
   "outputs": [],
   "source": [
    "b2b_cat=sns.barplot(x=\"Category\",y=\"B2B\",data=df,ci=False)\n",
    "plt.setp(b2b_cat.get_xticklabels(),\n",
    "         rotation=45,\n",
    "         horizontalalignment='right');"
   ]
  },
  {
   "cell_type": "markdown",
   "id": "94c0cf14",
   "metadata": {},
   "source": [
    "### *Which category has the highest profitability among regular customers\n"
   ]
  },
  {
   "cell_type": "code",
   "execution_count": null,
   "id": "1e7f41c3",
   "metadata": {},
   "outputs": [],
   "source": [
    "#Sets, Saree and Westren Dresses have made the highest profits "
   ]
  },
  {
   "cell_type": "code",
   "execution_count": null,
   "id": "7ae59514",
   "metadata": {},
   "outputs": [],
   "source": [
    "highely_profitable = df[df['B2B']==False]['Category'].count()\n",
    "highely_profitable=sns.barplot(x=\"Category\",y=\"Amount\",data=df,ci=False)\n",
    "plt.setp(highely_profitable.get_xticklabels(),\n",
    "         rotation=45,\n",
    "         horizontalalignment='right');"
   ]
  },
  {
   "cell_type": "markdown",
   "id": "f437d677",
   "metadata": {},
   "source": [
    "### * Deos free shipping promotion increase orders"
   ]
  },
  {
   "cell_type": "code",
   "execution_count": null,
   "id": "e603f263",
   "metadata": {},
   "outputs": [],
   "source": [
    "#Shipping promotions have impacted numbers of orders\n",
    "#A sugestion here to increase sales is to make more shipment offers"
   ]
  },
  {
   "cell_type": "code",
   "execution_count": null,
   "id": "75f1d95d",
   "metadata": {},
   "outputs": [],
   "source": [
    "total_orders=len(df['Order ID'])\n",
    "total_orders"
   ]
  },
  {
   "cell_type": "code",
   "execution_count": null,
   "id": "bcf31032",
   "metadata": {},
   "outputs": [],
   "source": [
    "promoted_shipment= df.groupby(df['promotion-ids']!='no_promotions')['Qty'].sum()"
   ]
  },
  {
   "cell_type": "code",
   "execution_count": null,
   "id": "cfd52434",
   "metadata": {},
   "outputs": [],
   "source": [
    "unpromoted_shipment= df.groupby(df['promotion-ids']=='no_promotions')['Qty'].sum()"
   ]
  },
  {
   "cell_type": "code",
   "execution_count": null,
   "id": "d29b6e1d",
   "metadata": {},
   "outputs": [],
   "source": [
    "df.columns"
   ]
  },
  {
   "cell_type": "code",
   "execution_count": null,
   "id": "ba03b1cc",
   "metadata": {},
   "outputs": [],
   "source": [
    "promoted_shipment*100/total_orders"
   ]
  },
  {
   "cell_type": "code",
   "execution_count": null,
   "id": "e256b059",
   "metadata": {},
   "outputs": [],
   "source": [
    "unpromoted_shipment*100/total_orders "
   ]
  },
  {
   "cell_type": "code",
   "execution_count": null,
   "id": "934f6eb1",
   "metadata": {},
   "outputs": [],
   "source": []
  },
  {
   "cell_type": "code",
   "execution_count": null,
   "id": "5670d877",
   "metadata": {},
   "outputs": [],
   "source": []
  }
 ],
 "metadata": {
  "kernelspec": {
   "display_name": "Python 3 (ipykernel)",
   "language": "python",
   "name": "python3"
  },
  "language_info": {
   "codemirror_mode": {
    "name": "ipython",
    "version": 3
   },
   "file_extension": ".py",
   "mimetype": "text/x-python",
   "name": "python",
   "nbconvert_exporter": "python",
   "pygments_lexer": "ipython3",
   "version": "3.7.0"
  }
 },
 "nbformat": 4,
 "nbformat_minor": 5
}
